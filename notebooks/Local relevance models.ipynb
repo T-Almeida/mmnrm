{
 "cells": [
  {
   "cell_type": "code",
   "execution_count": 1,
   "metadata": {},
   "outputs": [],
   "source": [
    "import os\n",
    "import sys\n",
    "\n",
    "module_path = os.path.abspath(\"..\")\n",
    "if module_path not in sys.path:\n",
    "    sys.path.append(module_path)\n",
    "\n",
    "import tensorflow as tf\n",
    "from tensorflow.keras import backend as K\n",
    "\n",
    "import numpy as np"
   ]
  },
  {
   "cell_type": "markdown",
   "metadata": {},
   "source": [
    "# MultipleNgramConvs like in PACRR\n",
    "\n",
    "https://arxiv.org/abs/1704.03940"
   ]
  },
  {
   "cell_type": "code",
   "execution_count": 2,
   "metadata": {},
   "outputs": [],
   "source": [
    "from interactions import SemanticInteractions\n",
    "from local_relevance import MultipleNgramConvs"
   ]
  },
  {
   "cell_type": "code",
   "execution_count": 3,
   "metadata": {},
   "outputs": [
    {
     "name": "stdout",
     "output_type": "stream",
     "text": [
      "[EMBEDDING MATRIX SHAPE] (10000, 68)\n",
      "Model: \"model\"\n",
      "__________________________________________________________________________________________________\n",
      "Layer (type)                    Output Shape         Param #     Connected to                     \n",
      "==================================================================================================\n",
      "input_1 (InputLayer)            [(None, 8)]          0                                            \n",
      "__________________________________________________________________________________________________\n",
      "input_2 (InputLayer)            [(None, 4)]          0                                            \n",
      "__________________________________________________________________________________________________\n",
      "semantic_interactions (Semantic (None, 8, 4, 3)      136         input_1[0][0]                    \n",
      "                                                                 input_2[0][0]                    \n",
      "__________________________________________________________________________________________________\n",
      "multiple_ngram_convs (MultipleN (None, 8, 18)        2352        semantic_interactions[0][0]      \n",
      "==================================================================================================\n",
      "Total params: 2,488\n",
      "Trainable params: 2,488\n",
      "Non-trainable params: 0\n",
      "__________________________________________________________________________________________________\n"
     ]
    }
   ],
   "source": [
    "# test\n",
    "K.clear_session()\n",
    "\n",
    "emb_matrix = np.random.random((10000,68))\n",
    "\n",
    "input_query = tf.keras.layers.Input((8,), dtype=\"int32\")\n",
    "input_sentence = tf.keras.layers.Input((4,), dtype=\"int32\")\n",
    "\n",
    "semantic_interaction = SemanticInteractions(emb_matrix)\n",
    "extendedpacrr = MultipleNgramConvs(max_ngram=3, k_max=2)\n",
    "\n",
    "_out = semantic_interaction([input_query, input_sentence])\n",
    "_out = extendedpacrr(_out)\n",
    "\n",
    "model = tf.keras.models.Model(inputs=[input_query, input_sentence], outputs=_out)\n",
    "model.summary()"
   ]
  },
  {
   "cell_type": "code",
   "execution_count": 14,
   "metadata": {},
   "outputs": [
    {
     "name": "stdout",
     "output_type": "stream",
     "text": [
      "[21.912245 17.800749 15.643004 21.912245 17.800749 15.643004 17.800749\n",
      " 17.800749]\n",
      "[21.912245 17.800749 15.643004 21.912245 17.800749 15.643004 17.800749\n",
      " 17.800749]\n",
      "[8.236326  6.608107  5.8339515 8.236326  6.608107  5.8339515 6.608107\n",
      " 6.608107 ]\n",
      "[5.537063  6.4712768 7.1589804 6.694434  6.4712768 6.1526017 6.3497453\n",
      " 5.6416974]\n",
      "[5.1988726 6.354459  6.6964936 6.3935385 6.354459  6.068408  5.989276\n",
      " 5.306098 ]\n"
     ]
    }
   ],
   "source": [
    "# test with some values\n",
    "\n",
    "query = np.random.randint(1,4,(1, 8))\n",
    "document = np.random.randint(1,4,(1, 4))\n",
    "\n",
    "y = model.predict([query, document])\n",
    "print(\"print colums from the matrix\")\n",
    "print(y[0,:,0])\n",
    "print(y[0,:,1])\n",
    "print(y[0,:,2])\n",
    "print(y[0,:,-2])\n",
    "print(y[0,:,-1])"
   ]
  },
  {
   "cell_type": "code",
   "execution_count": 15,
   "metadata": {},
   "outputs": [
    {
     "name": "stdout",
     "output_type": "stream",
     "text": [
      "print colums from the matrix\n",
      "[21.912245 14.866847 15.643004 21.912245  0.        0.        0.\n",
      "  0.      ]\n",
      "[21.912245 14.866847 15.643004 21.912245  0.        0.        0.\n",
      "  0.      ]\n",
      "[8.236326  5.5318522 5.8339515 8.236326  0.        0.        0.\n",
      " 0.       ]\n",
      "[5.4462748 5.750807  6.2426004 5.605811  0.        0.        0.\n",
      " 0.       ]\n",
      "[4.466276  5.4981523 5.200652  3.8984463 0.        0.        0.\n",
      " 0.       ]\n"
     ]
    }
   ],
   "source": [
    "query[:,4:] = np.zeros(4,)\n",
    "document[:,2:] = np.zeros(2,)\n",
    "\n",
    "y = model.predict([query, document])\n",
    "print(\"print colums from the matrix\")\n",
    "print(y[0,:,0])\n",
    "print(y[0,:,1])\n",
    "print(y[0,:,2])\n",
    "print(y[0,:,-2])\n",
    "print(y[0,:,-1])"
   ]
  },
  {
   "cell_type": "markdown",
   "metadata": {},
   "source": [
    "# MaskedSoftmax"
   ]
  },
  {
   "cell_type": "code",
   "execution_count": 2,
   "metadata": {},
   "outputs": [],
   "source": [
    "from local_relevance import MaskedSoftmax"
   ]
  },
  {
   "cell_type": "code",
   "execution_count": 8,
   "metadata": {},
   "outputs": [
    {
     "name": "stdout",
     "output_type": "stream",
     "text": [
      "[[3. 4. 3. 3. 7. 0. 0. 0. 0. 0.]]\n",
      "call tf.Tensor(\n",
      "[[ 3.e+00  4.e+00  3.e+00  3.e+00  7.e+00 -1.e+09 -1.e+09 -1.e+09 -1.e+09\n",
      "  -1.e+09]], shape=(1, 10), dtype=float32)\n",
      "tf.Tensor(\n",
      "[[0.01657923 0.04506702 0.01657923 0.01657923 0.90519524 0.\n",
      "  0.         0.         0.         0.        ]], shape=(1, 10), dtype=float32)\n",
      "norm [[0.15 0.2  0.15 0.15 0.35 0.   0.   0.   0.   0.  ]]\n",
      "call tf.Tensor(\n",
      "[[ 1.5e-01  2.0e-01  1.5e-01  1.5e-01  3.5e-01 -1.0e+09 -1.0e+09 -1.0e+09\n",
      "  -1.0e+09 -1.0e+09]], shape=(1, 10), dtype=float32)\n",
      "tf.Tensor(\n",
      "[[0.1896571  0.19938102 0.1896571  0.1896571  0.2316477  0.\n",
      "  0.         0.         0.         0.        ]], shape=(1, 10), dtype=float32)\n"
     ]
    }
   ],
   "source": [
    "K.clear_session()\n",
    "\n",
    "\n",
    "query = np.random.randint(1,8,(1, 10)).astype(np.float32)\n",
    "query[:,5:] = np.zeros(5,)\n",
    "idf_softmax = MaskedSoftmax()\n",
    "\n",
    "print(query)\n",
    "print(idf_softmax(query))\n",
    "\n",
    "norm = query/np.sum(query)\n",
    "print(\"norm\",norm)\n",
    "print(idf_softmax(norm))\n"
   ]
  },
  {
   "cell_type": "code",
   "execution_count": 11,
   "metadata": {},
   "outputs": [
    {
     "name": "stdout",
     "output_type": "stream",
     "text": [
      "call Tensor(\"masked_softmax/sub:0\", shape=(None, 10), dtype=float32)\n",
      "Model: \"model\"\n",
      "_________________________________________________________________\n",
      "Layer (type)                 Output Shape              Param #   \n",
      "=================================================================\n",
      "input_1 (InputLayer)         [(None, 10)]              0         \n",
      "_________________________________________________________________\n",
      "masked_softmax (MaskedSoftma (None, 10)                0         \n",
      "=================================================================\n",
      "Total params: 0\n",
      "Trainable params: 0\n",
      "Non-trainable params: 0\n",
      "_________________________________________________________________\n"
     ]
    }
   ],
   "source": [
    "## model simple outputs\n",
    "\n",
    "K.clear_session()\n",
    "\n",
    "input_query = tf.keras.layers.Input((10,), dtype=\"float32\")\n",
    "\n",
    "idf_softmax = MaskedSoftmax()\n",
    "\n",
    "_out = idf_softmax(input_query)\n",
    "\n",
    "model = tf.keras.models.Model(inputs=input_query, outputs=_out)\n",
    "model.summary()"
   ]
  },
  {
   "cell_type": "code",
   "execution_count": 12,
   "metadata": {},
   "outputs": [
    {
     "name": "stdout",
     "output_type": "stream",
     "text": [
      "[[4 6 2 5 5 0 0 0 0 0]]\n",
      "[[0.07162834 0.5292658  0.00969384 0.19470602 0.19470602 0.\n",
      "  0.         0.         0.         0.        ]]\n",
      "norm [[0.18181818 0.27272727 0.09090909 0.22727273 0.22727273 0.\n",
      "  0.         0.         0.         0.        ]]\n",
      "[[0.19602934 0.21468534 0.17899452 0.20514536 0.20514536 0.\n",
      "  0.         0.         0.         0.        ]]\n"
     ]
    }
   ],
   "source": [
    "\n",
    "print(query)\n",
    "print(model.predict(query))\n",
    "\n",
    "norm = query/np.sum(query)\n",
    "print(\"norm\",norm)\n",
    "print(model.predict(norm))"
   ]
  },
  {
   "cell_type": "code",
   "execution_count": null,
   "metadata": {},
   "outputs": [],
   "source": []
  },
  {
   "cell_type": "code",
   "execution_count": null,
   "metadata": {},
   "outputs": [],
   "source": []
  }
 ],
 "metadata": {
  "kernelspec": {
   "display_name": "Python 3",
   "language": "python",
   "name": "python3"
  },
  "language_info": {
   "codemirror_mode": {
    "name": "ipython",
    "version": 3
   },
   "file_extension": ".py",
   "mimetype": "text/x-python",
   "name": "python",
   "nbconvert_exporter": "python",
   "pygments_lexer": "ipython3",
   "version": "3.5.2"
  }
 },
 "nbformat": 4,
 "nbformat_minor": 2
}
